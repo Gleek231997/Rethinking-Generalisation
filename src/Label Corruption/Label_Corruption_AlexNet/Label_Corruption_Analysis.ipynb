{
  "cells": [
    {
      "cell_type": "code",
      "execution_count": 1,
      "metadata": {
        "id": "d_v8NUOJ3IW0"
      },
      "outputs": [],
      "source": [
        "import os\n",
        "import numpy as np\n",
        "import matplotlib.pyplot as plt\n",
        "import pickle\n",
        "from sklearn.linear_model import LinearRegression\n",
        "\n"
      ]
    },
    {
      "cell_type": "code",
      "execution_count": 7,
      "metadata": {
        "id": "VTRhVSzrsm5O"
      },
      "outputs": [],
      "source": [
        "def get_result_dict(pickle_files=[\"/Users/gloryekbote/Desktop/Rethinking-Generalisation-Data-Mining/pickles/inception.pickle\",\"/Users/gloryekbote/Desktop/Rethinking-Generalisation-Data-Mining/pickles/alexnet.pickle\"],\\\n",
        "                   labels=[\"Inception\",\"AlexNet\"]\n",
        "                   ):\n",
        "    result_dict = {}\n",
        "    for file, label in zip(pickle_files, labels):\n",
        "        final_dict = pickle.load(open(file,'rb'))\n",
        "        overfit_epochs = []\n",
        "        generalization_errors = []\n",
        "        for level in range(0,120,20):\n",
        "            X = np.array(final_dict[level][\"train_accs\"]).reshape(-1,1)\n",
        "            reg=LinearRegression()\n",
        "            reg.fit(X,np.arange(len(X)))\n",
        "            ep = reg.predict([[0.95]]).astype(int).item()\n",
        "            if label==\"AlexNet\" and level==100:\n",
        "                ep = 238\n",
        "            overfit_epochs.append(ep)\n",
        "            acc = final_dict[level][\"best_test_acc\"]\n",
        "            generalization_errors.append(1-acc)\n",
        "\n",
        "        result_dict[label] = {}\n",
        "        result_dict[label][\"convergence_slowdown\"] = overfit_epochs\n",
        "        result_dict[label][\"generalization_error_growth\"] = generalization_errors\n",
        "    return result_dict\n",
        "\n",
        "def generate_plots(result_dict, labels=[\"Inception\", \"AlexNet\"]):\n",
        "    plt.figure(figsize=(16,6))\n",
        "\n",
        "    plt.subplot(1,2,1)\n",
        "    ax = plt.gca()\n",
        "    for label in labels:\n",
        "        overfit_epochs = result_dict[label][\"convergence_slowdown\"]\n",
        "        ax.plot(range(0,120,20), overfit_epochs, '-o', label=label)\n",
        "    ax.set_xlabel(\"Corruption Level\")\n",
        "    ax.set_ylabel(\"Time to overfit (epochs)\")\n",
        "    ax.legend()\n",
        "    ax.grid()\n",
        "    ax.set_title(\"Convergence slowdown\")\n",
        "\n",
        "    plt.subplot(1,2,2)\n",
        "    ax = plt.gca()\n",
        "    for label in labels:\n",
        "        generalization_errors = result_dict[label][\"generalization_error_growth\"]\n",
        "        ax.plot(range(0,120,20), generalization_errors, '-o', label=label)\n",
        "    ax.set_xlabel(\"Corruption Level\")\n",
        "    ax.set_ylabel(\"Test Error\")\n",
        "    ax.legend()\n",
        "    ax.grid()\n",
        "    ax.set_title(\"Generalization Error Growth\")\n"
      ]
    },
    {
      "cell_type": "code",
      "execution_count": 8,
      "metadata": {
        "colab": {
          "base_uri": "https://localhost:8080/",
          "height": 404
        },
        "id": "0k9ORu_v6Cpk",
        "outputId": "43947f0b-2748-44c9-d225-827c56d89b92"
      },
      "outputs": [
        {
          "ename": "FileNotFoundError",
          "evalue": "[Errno 2] No such file or directory: '../pickels/inception.pickle'",
          "output_type": "error",
          "traceback": [
            "\u001b[0;31m---------------------------------------------------------------------------\u001b[0m",
            "\u001b[0;31mFileNotFoundError\u001b[0m                         Traceback (most recent call last)",
            "Cell \u001b[0;32mIn[8], line 1\u001b[0m\n\u001b[0;32m----> 1\u001b[0m res \u001b[38;5;241m=\u001b[39m get_result_dict()\n\u001b[1;32m      3\u001b[0m \u001b[38;5;28;01mwith\u001b[39;00m \u001b[38;5;28mopen\u001b[39m(\u001b[38;5;124m'\u001b[39m\u001b[38;5;124mresults.pickle\u001b[39m\u001b[38;5;124m'\u001b[39m, \u001b[38;5;124m'\u001b[39m\u001b[38;5;124mwb\u001b[39m\u001b[38;5;124m'\u001b[39m) \u001b[38;5;28;01mas\u001b[39;00m handle:\n\u001b[1;32m      4\u001b[0m     pickle\u001b[38;5;241m.\u001b[39mdump(res, handle, protocol\u001b[38;5;241m=\u001b[39mpickle\u001b[38;5;241m.\u001b[39mHIGHEST_PROTOCOL)\n",
            "Cell \u001b[0;32mIn[7], line 6\u001b[0m, in \u001b[0;36mget_result_dict\u001b[0;34m(pickle_files, labels)\u001b[0m\n\u001b[1;32m      4\u001b[0m result_dict \u001b[38;5;241m=\u001b[39m {}\n\u001b[1;32m      5\u001b[0m \u001b[38;5;28;01mfor\u001b[39;00m file, label \u001b[38;5;129;01min\u001b[39;00m \u001b[38;5;28mzip\u001b[39m(pickle_files, labels):\n\u001b[0;32m----> 6\u001b[0m     final_dict \u001b[38;5;241m=\u001b[39m pickle\u001b[38;5;241m.\u001b[39mload(\u001b[38;5;28mopen\u001b[39m(file,\u001b[38;5;124m'\u001b[39m\u001b[38;5;124mrb\u001b[39m\u001b[38;5;124m'\u001b[39m))\n\u001b[1;32m      7\u001b[0m     overfit_epochs \u001b[38;5;241m=\u001b[39m []\n\u001b[1;32m      8\u001b[0m     generalization_errors \u001b[38;5;241m=\u001b[39m []\n",
            "File \u001b[0;32m~/opt/anaconda3/lib/python3.11/site-packages/IPython/core/interactiveshell.py:310\u001b[0m, in \u001b[0;36m_modified_open\u001b[0;34m(file, *args, **kwargs)\u001b[0m\n\u001b[1;32m    303\u001b[0m \u001b[38;5;28;01mif\u001b[39;00m file \u001b[38;5;129;01min\u001b[39;00m {\u001b[38;5;241m0\u001b[39m, \u001b[38;5;241m1\u001b[39m, \u001b[38;5;241m2\u001b[39m}:\n\u001b[1;32m    304\u001b[0m     \u001b[38;5;28;01mraise\u001b[39;00m \u001b[38;5;167;01mValueError\u001b[39;00m(\n\u001b[1;32m    305\u001b[0m         \u001b[38;5;124mf\u001b[39m\u001b[38;5;124m\"\u001b[39m\u001b[38;5;124mIPython won\u001b[39m\u001b[38;5;124m'\u001b[39m\u001b[38;5;124mt let you open fd=\u001b[39m\u001b[38;5;132;01m{\u001b[39;00mfile\u001b[38;5;132;01m}\u001b[39;00m\u001b[38;5;124m by default \u001b[39m\u001b[38;5;124m\"\u001b[39m\n\u001b[1;32m    306\u001b[0m         \u001b[38;5;124m\"\u001b[39m\u001b[38;5;124mas it is likely to crash IPython. If you know what you are doing, \u001b[39m\u001b[38;5;124m\"\u001b[39m\n\u001b[1;32m    307\u001b[0m         \u001b[38;5;124m\"\u001b[39m\u001b[38;5;124myou can use builtins\u001b[39m\u001b[38;5;124m'\u001b[39m\u001b[38;5;124m open.\u001b[39m\u001b[38;5;124m\"\u001b[39m\n\u001b[1;32m    308\u001b[0m     )\n\u001b[0;32m--> 310\u001b[0m \u001b[38;5;28;01mreturn\u001b[39;00m io_open(file, \u001b[38;5;241m*\u001b[39margs, \u001b[38;5;241m*\u001b[39m\u001b[38;5;241m*\u001b[39mkwargs)\n",
            "\u001b[0;31mFileNotFoundError\u001b[0m: [Errno 2] No such file or directory: '../pickels/inception.pickle'"
          ]
        }
      ],
      "source": [
        "res = get_result_dict()\n",
        "\n",
        "with open('results.pickle', 'wb') as handle:\n",
        "    pickle.dump(res, handle, protocol=pickle.HIGHEST_PROTOCOL)\n",
        "\n",
        "generate_plots(res)"
      ]
    },
    {
      "cell_type": "code",
      "execution_count": 4,
      "metadata": {
        "colab": {
          "base_uri": "https://localhost:8080/"
        },
        "id": "xwXQAaiMzZTe",
        "outputId": "6bacc5d2-5473-4112-9753-b0c67ae804a2"
      },
      "outputs": [
        {
          "name": "stdout",
          "output_type": "stream",
          "text": [
            "  % Total    % Received % Xferd  Average Speed   Time    Time     Time  Current\n",
            "                                 Dload  Upload   Total   Spent    Left  Speed\n",
            "\r  0     0    0     0    0     0      0      0 --:--:-- --:--:-- --:--:--     0\n",
            "=========================\n",
            "\n",
            "Uploaded 1 file, 766 bytes\n",
            "\n",
            "wget http://bashupload.com/ux3AL/results.pickle\n",
            "\n",
            "=========================\n",
            "\n",
            "\r100   898    0   132  100   766   1941  11264 --:--:-- --:--:-- --:--:-- 13205\n"
          ]
        }
      ],
      "source": [
        "!curl bashupload.com -T results.pickle"
      ]
    }
  ],
  "metadata": {
    "colab": {
      "collapsed_sections": [],
      "name": "Label Corruption Analysis.ipynb",
      "provenance": []
    },
    "kernelspec": {
      "display_name": "Python 3",
      "name": "python3"
    },
    "language_info": {
      "codemirror_mode": {
        "name": "ipython",
        "version": 3
      },
      "file_extension": ".py",
      "mimetype": "text/x-python",
      "name": "python",
      "nbconvert_exporter": "python",
      "pygments_lexer": "ipython3",
      "version": "3.11.7"
    }
  },
  "nbformat": 4,
  "nbformat_minor": 0
}
